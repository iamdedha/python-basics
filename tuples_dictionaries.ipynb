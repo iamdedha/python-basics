{
 "cells": [
  {
   "cell_type": "code",
   "execution_count": 8,
   "metadata": {},
   "outputs": [
    {
     "name": "stdout",
     "output_type": "stream",
     "text": [
      "aa\n"
     ]
    }
   ],
   "source": [
    "#UNPACKING IN PYTHON\n",
    "coordinates=(1,2,3)    #this is a tuple which are immutable cannot be modified but can be accessed/read\n",
    "#normal approach\n",
    "#x =coordinates[0]\n",
    "#y=coordinates[1]\n",
    "#z=coordinates[2]\n",
    "\n",
    "#using unpacking\n",
    "\n",
    "x,y,z=coordinates   #it can also be done with a list\n",
    "print(z)"
   ]
  },
  {
   "cell_type": "code",
   "execution_count": 15,
   "metadata": {},
   "outputs": [
    {
     "name": "stdout",
     "output_type": "stream",
     "text": [
      "august 18 1996\n"
     ]
    }
   ],
   "source": [
    "#dictionaries\n",
    "customer={\n",
    "    'name':'sumit',\n",
    "    'age':25,\n",
    "    'is_above_18':True\n",
    "}\n",
    "customer['birthdate']='august 18 1996'\n",
    "print(customer['birthdate'])"
   ]
  },
  {
   "cell_type": "code",
   "execution_count": null,
   "metadata": {},
   "outputs": [],
   "source": [
    "#program to convert numbers to digits using dictionary\n",
    "phone=input(\"phone:\")\n",
    "numbers_to_digit={\n",
    "    '1':'one',\n",
    "    '2':'two',\n",
    "    '3':'three',\n",
    "    '4':'four'\n",
    "    }\n",
    "output=\"\"\n",
    "for ch in phone:\n",
    "     output+=numbers_to_digit.get(ch,'@')+\" \"  #we use get instead of numbers_to_digit[ch,'@'] so we dont get error when user enters illegal value\n",
    "print(output)\n",
    "    \n",
    "    "
   ]
  },
  {
   "cell_type": "code",
   "execution_count": null,
   "metadata": {},
   "outputs": [],
   "source": [
    "#gradient descent on linear regression\n",
    "points=[(2,4),(4,2)]\n",
    "def f(w):                                            #squared function  \n",
    "    return sum((w*x-y)**2 for x,y in points)\n",
    "def df(w):                                          #derivative of function to go downhill to find minima\n",
    "    return sum(2*(w*x-y)*x for x,y in points)\n",
    "#gradient descent \n",
    "w=0\n",
    "eta=0.01                                            #learning rate alpha\n",
    "for t in range(100):\n",
    "    value=f(w)\n",
    "    gradient=df(w)\n",
    "    w=w-eta*gradient\n",
    "    print('iterations{}: w{} , f(w){}'.format(t,w,value))"
   ]
  },
  {
   "cell_type": "code",
   "execution_count": 9,
   "metadata": {},
   "outputs": [
    {
     "name": "stdout",
     "output_type": "stream",
     "text": [
      "enter your dob:23\n",
      "1998\n",
      "None\n"
     ]
    }
   ],
   "source": [
    "def age_calc(dob):\n",
    "   print((2021-int(dob)))\n",
    "\n",
    "\n",
    "x=input('enter your dob:')\n",
    "age=age_calc(x)\n",
    "print(age)"
   ]
  },
  {
   "cell_type": "code",
   "execution_count": 13,
   "metadata": {},
   "outputs": [
    {
     "name": "stdout",
     "output_type": "stream",
     "text": [
      "age:s\n",
      "invalid value\n"
     ]
    }
   ],
   "source": [
    "#try and except\n",
    "try:\n",
    "    age=int(input('age:'))\n",
    "    print(age)\n",
    "except ValueError:\n",
    "    print('invalid value')"
   ]
  },
  {
   "cell_type": "code",
   "execution_count": null,
   "metadata": {},
   "outputs": [],
   "source": [
    "#classes to define new types these classes have methods and attributes"
   ]
  },
  {
   "cell_type": "code",
   "execution_count": 16,
   "metadata": {},
   "outputs": [
    {
     "name": "stdout",
     "output_type": "stream",
     "text": [
      "sumit\n",
      "hello my name is sumit\n"
     ]
    }
   ],
   "source": [
    "class Person:\n",
    "    def __init__(self,name):      #constructor is called whenever object is created\n",
    "        self.name=name\n",
    "    def talk(self,name):\n",
    "        print(f'hello my name is {name}')\n",
    "        \n",
    "        \n",
    "p= Person('sumit')                #constructor is called here\n",
    "print(p.name)\n",
    "p.talk(p.name)"
   ]
  },
  {
   "cell_type": "code",
   "execution_count": 27,
   "metadata": {},
   "outputs": [
    {
     "name": "stdout",
     "output_type": "stream",
     "text": [
      "x:[  0.08877508  -3.53739068   4.90395893 -10.32976235   2.96115263]\n"
     ]
    }
   ],
   "source": [
    "\n"
   ]
  },
  {
   "cell_type": "code",
   "execution_count": null,
   "metadata": {},
   "outputs": [],
   "source": []
  }
 ],
 "metadata": {
  "kernelspec": {
   "display_name": "Python 3",
   "language": "python",
   "name": "python3"
  },
  "language_info": {
   "codemirror_mode": {
    "name": "ipython",
    "version": 3
   },
   "file_extension": ".py",
   "mimetype": "text/x-python",
   "name": "python",
   "nbconvert_exporter": "python",
   "pygments_lexer": "ipython3",
   "version": "3.7.6"
  }
 },
 "nbformat": 4,
 "nbformat_minor": 4
}
